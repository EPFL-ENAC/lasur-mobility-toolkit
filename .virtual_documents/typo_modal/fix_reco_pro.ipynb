import h3 as h3
import pandas as pd
import geopandas as gpd


freq_mod_pro_journeys = [
      {
        "days": 12,
        "mode": "train",
        "hex_id": "821f97fffffffff"
      },
      {
        "days": 52,
        "mode": "bike",
        "hex_id": "851f91affffffff"
      },
      {
        "days": 1,
        "mode": "plane",
        "hex_id": "811fbffffffffff"
      }
    ]


freq_mod_pro_journeys = [
    {
        "days": 1,
        "mode": "plane",
        "hex_id": "81397ffffffffff"
      },
      {
        "days": 1,
        "mode": "plane",
        "hex_id": "81393ffffffffff"
      },
      {
        "days": 2,
        "mode": "car",
        "hex_id": "821fa7fffffffff"
      },
      {
        "days": 2,
        "mode": "car",
        "hex_id": "821f4ffffffffff"
      },
      {
        "days": 5,
        "mode": "walking",
        "hex_id": "851f9103fffffff"
      },
      {
        "days": 5,
        "mode": "boat",
        "hex_id": "851f826ffffffff"
      },
      {
        "days": 5,
        "mode": "moto",
        "hex_id": "851f91a7fffffff"
      },
      {
        "days": 6,
        "mode": "car",
        "hex_id": "851f91affffffff"
      },
      {
        "days": 6,
        "mode": "car",
        "hex_id": "851f91b7fffffff"
      },
      {
        "days": 7,
        "mode": "car",
        "hex_id": "851f91abfffffff"
      },
      {
        "days": 7,
        "mode": "car",
        "hex_id": "851f912bfffffff"
      },
      {
        "days": 7,
        "mode": "car",
        "hex_id": "851f9cdbfffffff"
      },
      {
        "days": 8,
        "mode": "car",
        "hex_id": "851f8343fffffff"
      },
      {
        "days": 8,
        "mode": "car",
        "hex_id": "851f9c8ffffffff"
      },
      {
        "days": 9,
        "mode": "plane",
        "hex_id": "851f99cffffffff"
      }
    ]


d_lat = 46.25
d_lon = 6.15
wp_res_5 = h3.latlng_to_cell(d_lat, d_lon, 5)#freq_mod_pro_journeys[1]["hex_id"]
wp_res_2 = "821f87fffffffff"#freq_mod_pro_journeys[0]["hex_id"]
wp_res_1 = "811fbffffffffff"#freq_mod_pro_journeys[2]["hex_id"]
h3.latlng_to_cell(46.25, 6.15, 5)==freq_mod_pro_journeys[1]["hex_id"]





#for i in range(len(freq_mod_pro_journeys):
scores = {'marche':56,'velo':55, 'vae':54, 'tpu':53, 'train':52, 'covoit':51, 'elec':50, 'inter':49, 'cargo':48}    
def compute_reco_pro_h3(scores,can_df,freq_mod_pro_journeys):
    reco_pro = []
    for j in freq_mod_pro_journeys:
        dest=j["hex_id"]
        mode=j["mode"]
        if h3.get_resolution(dest)==1:
            if dest in h3.grid_disk(wp_res_1, 1):
                reco_pro.append("train")
            elif mode == "car":
                reco_pro.append("avoid")
            elif mode == "plane":
                reco_pro.append("avoid")
            else:
                reco_pro.append(mode)
                
        if h3.get_resolution(dest)==2:
            if dest in h3.grid_disk(wp_res_2, 3):
                reco_pro.append("train")
            elif mode == "car":
                reco_pro.append("avoid")
            elif mode == "plane":
                reco_pro.append("avoid")
            else:
                reco_pro.append(mode)
                
        if h3.get_resolution(dest)==5:
            if mode=="walking":
                reco_pro.append("walking")
            elif mode=="bike" or (dest==wp_res_5 and scores['velo']>50):
                reco_pro.append("bike")
            elif mode=="pub" or (dest in h3.grid_disk(wp_res_5, 1) and can_df.loc[can_df.hex_id==dest,'can_tpu'].values==1 and scores['tpu']>50):
                reco_pro.append("pub")
            elif mode=="train" or (can_df.loc[can_df.hex_id==dest,'can_train'].values==1 and scores['train']>50):
                reco_pro.append("train")
            elif mode=="boat":
                reco_pro.append("boat")
            elif mode=="moto":
                reco_pro.append("elec_moto")
            else:
                reco_pro.append("elec")  
    return reco_pro
compute_reco_pro_h3(scores,can_df,freq_mod_pro_journeys)


hex_list=[]
for j in freq_mod_pro_journeys:
    dest=j["hex_id"]
    hex_list.append(dest)
train_list=[1,1,1,1,1,0,0,1,1,1,1,0,1,0,1]
pub_list = [1,1,1,1,1,0,0,1,1,1,1,0,1,1,1]
can_df=pd.DataFrame({'hex_id': hex_list,
     'can_train': train_list,
     'can_tpu': pub_list})
can_df


gares_gg = gpd.read_file('/Users/aquicoop/Downloads/SHP_AGGLO_GARES').to_crs("epsg:4326")
gares_gg=gares_gg.loc[gares_gg.ETAT!='désaffecté']
gares_gg['id']=gares_gg['OBJECTID']
gares_eu = pd.read_csv('/Users/aquicoop/Downloads/train_stations_europe.csv')
gares_eu=gares_eu.loc[gares_eu.is_main_station==True]
gares = gpd.GeoDataFrame(data=gares_eu, geometry=gpd.points_from_xy(gares_eu.longitude, gares_eu.latitude), crs="epsg:4326")
stations = gpd.GeoDataFrame(pd.concat([gares_gg.loc[:,['id','geometry']],gares.loc[:,['id','geometry']]], ignore_index=True), crs="epsg:4326")



pub_stops = gpd.read_file('/Users/aquicoop/Downloads/gueteklassen_oev_2025_2056/OeV_Gueteklassen_ARE.gpkg',layer='OeV_Haltestellen_ARE').to_crs("epsg:4326")


def lat_lng_to_h3(row):
    try:
        cell=h3.latlng_to_cell(row.geometry.y, row.geometry.x, 5)
    except:
        cell='no_h3'
    return cell
stations['h3'] = stations.apply(lat_lng_to_h3, axis=1)
pub_stops['h3'] = pub_stops.apply(lat_lng_to_h3, axis=1)



pub_counts = pub_stops.groupby(['h3']).h3.agg('count').to_frame('count').reset_index()
#pub_counts.rename({'count':'can_pub'},axis=1,inplace=True)
pub_counts['can_pub']=(pub_counts['count']>4).astype(int)
pub_counts.describe()


station_counts = stations.groupby(['h3']).h3.agg('count').to_frame('count').reset_index()
#station_counts.rename({'count':'can_train'},axis=1,inplace=True)
station_counts['can_train']=(station_counts['count']>=1).astype(int)
station_counts.describe()


h3_center=h3.latlng_to_cell(47.0, 7.5, 5)



all_h3_cells=pd.Series(h3.grid_disk(h3_center, 15)).rename('h3').to_frame().merge(station_counts, on='h3', how='left').merge(pub_counts, on='h3', how='left')
all_h3_cells.fillna(0, inplace=True)
all_h3_cells.loc[:, ['h3','can_train','can_pub']].to_csv('h3_can_train_pub.csv', index=False)


h3.cell_to_latlng('851f8343fffffff')



