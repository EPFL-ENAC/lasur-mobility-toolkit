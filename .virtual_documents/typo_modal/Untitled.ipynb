import h3 as h3
import pandas as pd
import geopandas as gpd


freq_mod_pro_journeys = [
      {
        "days": 12,
        "mode": "train",
        "hex_id": "821f97fffffffff"
      },
      {
        "days": 52,
        "mode": "bike",
        "hex_id": "851f91affffffff"
      },
      {
        "days": 1,
        "mode": "plane",
        "hex_id": "811fbffffffffff"
      }
    ]


freq_mod_pro_journeys = [
    {
        "days": 12,
        "mode": "train",
        "hex_id": "821f97fffffffff"
      },
      {
        "days": 52,
        "mode": "bike",
        "hex_id": "851f91affffffff"
      },
      {
        "days": 1,
        "mode": "plane",
        "hex_id": "811fbffffffffff"
      },
      {
        "days": 8,
        "mode": "walking",
        "hex_id": "851f91affffffff"
      },
      {
        "days": 7,
        "mode": "bike",
        "hex_id": "851f9cdbfffffff"
      },
      {
        "days": 6,
        "mode": "pub",
        "hex_id": "851f91a3fffffff"
      },
      {
        "days": 5,
        "mode": "moto",
        "hex_id": "851f91abfffffff"
      },
      {
        "days": 4,
        "mode": "car",
        "hex_id": "851f91a7fffffff"
      },
      {
        "days": 3,
        "mode": "train",
        "hex_id": "851f826bfffffff"
      },
      {
        "days": 2,
        "mode": "boat",
        "hex_id": "851f826ffffffff"
      },
      {
        "days": 1,
        "mode": "plane",
        "hex_id": "8148bffffffffff"
      }
    ]


wp_res_5 = freq_mod_pro_journeys[1]["hex_id"]
wp_res_2 = freq_mod_pro_journeys[0]["hex_id"]
wp_res_1 = freq_mod_pro_journeys[2]["hex_id"]


#for i in range(len(freq_mod_pro_journeys):
for j in freq_mod_pro_journeys:
    print(h3.get_resolution(j["hex_id"]))
    if h3.get_resolution(j["hex_id"])==5:
        
